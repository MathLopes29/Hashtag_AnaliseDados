{
 "cells": [
  {
   "cell_type": "markdown",
   "metadata": {},
   "source": [
    "# Exercícios\n",
    "\n",
    "## 1. Criando um Registro de Hóspedes\n",
    "\n",
    "Digamos que você está criando o sistema para registrar a chegada de hóspedes em um hotel. No hotel, os hóspedes podem ter quartos com 1, 2, 3 e 4 pessoas. Seu sistema deve conseguir:\n",
    "\n",
    "1. Identificar quantas pessoas o hóspede que acabou de chegar vai ter no quarto (perguntando por meio de input)\n",
    "2. De acordo com a quantidade de pessoas do hóspede, ele deve fazer um for para perguntar o cpf e o nome de cada pessoa, a fim de registrá-la no quarto (2 inputs para cada pessoa, 1 para o cpf e outro para o nome)\n",
    "3. O seu programa então deve gerar uma lista com todas as pessoas que ficarão no quarto em que cada item dessa lista é o nome da pessoa e o cpf da pessoa, assim:"
   ]
  },
  {
   "cell_type": "raw",
   "metadata": {},
   "source": [
    "quarto = [\n",
    "    ['João', 'cpf:00000000000'],\n",
    "    ['Julia', 'cpf:11111111111'],\n",
    "    ['Marcus', 'cpf:22222222222'],\n",
    "    ['Maria', 'cpf:33333333333'],\n",
    "]"
   ]
  },
  {
   "cell_type": "markdown",
   "metadata": {},
   "source": [
    "- Para simplificar, não vamos nos preocupar com possibilidades de \"tentar colocar mais de 1 hóspede, digitar o cpf errado, etc. Nosso objetivo é treinar a criação de uma rotina de cadastro"
   ]
  },
  {
   "cell_type": "code",
   "execution_count": 5,
   "metadata": {},
   "outputs": [
    {
     "name": "stdout",
     "output_type": "stream",
     "text": [
      "CPF Válido\n",
      "[['15975385215', 'Matheus']]\n"
     ]
    }
   ],
   "source": [
    "qtd_pessoas = int(input('Quantidade de Pessoas: '))\n",
    "registros = [] \n",
    "\n",
    "for i in range(qtd_pessoas):\n",
    "    cpf_registro = input('Digite o seu CPF (somente números): ')\n",
    "    \n",
    "    if len(cpf_registro) == 11 and cpf_registro.isdigit():\n",
    "        print('CPF Válido')\n",
    "        nome_registro = input('Digite o seu Nome: ')\n",
    "        registros.append([cpf_registro, nome_registro])\n",
    "    else:\n",
    "        print('CPF inválido. Tente novamente.')\n",
    "        break\n",
    "\n",
    "print(registros)\n"
   ]
  },
  {
   "cell_type": "markdown",
   "metadata": {},
   "source": [
    "## 2. Análise de Vendas\n",
    "\n",
    "Nesse exercício vamos fazer uma \"análise simples\" de atingimento de Meta.\n",
    "\n",
    "Temos uma lista com os vendedores e os valores de vendas e queremos identificar (printar) quais os vendedores que bateram a meta e qual foi o valor que eles venderam."
   ]
  },
  {
   "cell_type": "code",
   "execution_count": 14,
   "metadata": {},
   "outputs": [
    {
     "name": "stdout",
     "output_type": "stream",
     "text": [
      "João & 15000.00\n",
      "Julia & 27000.00\n",
      "Ana & 10300.00\n"
     ]
    }
   ],
   "source": [
    "meta = 10000\n",
    "vendas = [\n",
    "    ['João', 15000],\n",
    "    ['Julia', 27000],\n",
    "    ['Marcus', 9900],\n",
    "    ['Maria', 3750],\n",
    "    ['Ana', 10300],\n",
    "    ['Alon', 7870],\n",
    "]\n",
    "#seu código aqui\n",
    "\n",
    "for i in vendas:\n",
    "    if i [1] >= meta:\n",
    "        print('{} & {:.2f}'.format(i [0], i[1]))"
   ]
  },
  {
   "cell_type": "markdown",
   "metadata": {},
   "source": [
    "## 3. Comparação com Ano Anterior\n",
    "\n",
    "Digamos que você está analisando as vendas de produtos de um ecommerce e quer identificar quais produtos tiveram no ano de 2020 mais vendas do que no ano de 2019, para reportar isso para a diretoria.\n",
    "\n",
    "Sua resposta pode ser um print de cada produto, qual foi a venda de 2019, a venda de 2020 e o % de crescimento de 2020 para 2019.\n",
    "\n",
    "Lembrando, para calcular o % de crescimento de um produto de um ano para o outro, podemos fazer: (vendas_produto2020/vendas_produto2019 - 1)\n",
    "\n",
    "Dica: lembre do enumerate, ele pode facilitar seu \"for\""
   ]
  },
  {
   "cell_type": "code",
   "execution_count": null,
   "metadata": {},
   "outputs": [
    {
     "name": "stdout",
     "output_type": "stream",
     "text": [
      "Produto iphone em 2019 558147.00 & em 2020 951642.00, percentual de 70.5%\n",
      "Produto tv em 2019 405252.00 & em 2020 787604.00, percentual de 94.3%\n",
      "Produto máquina de café em 2019 718654.00 & em 2020 867660.00, percentual de 20.7%\n",
      "Produto notebook dell em 2019 422760.00 & em 2020 694913.00, percentual de 64.4%\n",
      "Produto notebook hp em 2019 154753.00 & em 2020 539704.00, percentual de 248.8%\n",
      "Produto microsoft surface em 2019 438508.00 & em 2020 667179.00, percentual de 52.1%\n",
      "Produto webcam em 2019 237467.00 & em 2020 295633.00, percentual de 24.5%\n",
      "Produto caixa de som em 2019 489705.00 & em 2020 725316.00, percentual de 48.1%\n",
      "Produto microfone em 2019 328311.00 & em 2020 644622.00, percentual de 96.3%\n",
      "Produto câmera canon em 2019 591120.00 & em 2020 994303.00, percentual de 68.2%\n"
     ]
    }
   ],
   "source": [
    "produtos = ['iphone', 'galaxy', 'ipad', 'tv', 'máquina de café', 'kindle', 'geladeira', 'adega', 'notebook dell', 'notebook hp', 'notebook asus', 'microsoft surface', 'webcam', 'caixa de som', 'microfone', 'câmera canon']\n",
    "vendas2019 = [558147,712350,573823,405252,718654,531580,973139,892292,422760,154753,887061,438508,237467,489705,328311,591120]\n",
    "vendas2020 = [951642,244295,26964,787604,867660,78830,710331,646016,694913,539704,324831,667179,295633,725316,644622,994303]\n",
    "#seu código aqui\n",
    "\n",
    "for i, produto in enumerate (produtos):\n",
    "    if vendas2020 [i] > vendas2019[i]:\n",
    "        cres = vendas2020[i] / vendas2019[i] -1\n",
    "        print('Produto {} em 2019 {:.2f} & em 2020 {:.2f}, percentual de {:.1%}'.format(produto, vendas2019[i], vendas2020[i], cres)) "
   ]
  }
 ],
 "metadata": {
  "kernelspec": {
   "display_name": ".venv",
   "language": "python",
   "name": "python3"
  },
  "language_info": {
   "codemirror_mode": {
    "name": "ipython",
    "version": 3
   },
   "file_extension": ".py",
   "mimetype": "text/x-python",
   "name": "python",
   "nbconvert_exporter": "python",
   "pygments_lexer": "ipython3",
   "version": "3.13.0"
  }
 },
 "nbformat": 4,
 "nbformat_minor": 4
}
