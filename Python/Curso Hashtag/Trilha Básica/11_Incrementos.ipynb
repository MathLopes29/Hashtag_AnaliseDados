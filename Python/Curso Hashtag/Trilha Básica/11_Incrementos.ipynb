{
 "cells": [
  {
   "cell_type": "code",
   "execution_count": 2,
   "id": "5b1497dd",
   "metadata": {},
   "outputs": [
    {
     "name": "stdout",
     "output_type": "stream",
     "text": [
      "Faturamento inicial: 0\n",
      "Faturamento após adição de 100: 100\n"
     ]
    }
   ],
   "source": [
    "faturamento = 0\n",
    "print(\"Faturamento inicial:\", faturamento)\n",
    "faturamento += 100\n",
    "print(\"Faturamento após adição de 100:\", faturamento)\n",
    "\n"
   ]
  },
  {
   "cell_type": "code",
   "execution_count": 3,
   "id": "13f66034",
   "metadata": {},
   "outputs": [
    {
     "name": "stdout",
     "output_type": "stream",
     "text": [
      "Email completo: mat.lopes@gmail.com\n"
     ]
    }
   ],
   "source": [
    "email = 'mat.lopes'\n",
    "email += '@gmail.com'\n",
    "print(\"Email completo:\", email)"
   ]
  },
  {
   "cell_type": "code",
   "execution_count": 4,
   "id": "a27d8258",
   "metadata": {},
   "outputs": [
    {
     "name": "stdout",
     "output_type": "stream",
     "text": [
      "Email com faturamento: mat.lopes@gmail.com  100\n"
     ]
    }
   ],
   "source": [
    "email = 'mat.lopes'\n",
    "email += '@gmail.com'+'  {faturamento}'\n",
    "\n",
    "print(\"Email com faturamento:\", email.format(faturamento=faturamento))\n",
    "\n"
   ]
  }
 ],
 "metadata": {
  "kernelspec": {
   "display_name": ".venv",
   "language": "python",
   "name": "python3"
  },
  "language_info": {
   "codemirror_mode": {
    "name": "ipython",
    "version": 3
   },
   "file_extension": ".py",
   "mimetype": "text/x-python",
   "name": "python",
   "nbconvert_exporter": "python",
   "pygments_lexer": "ipython3",
   "version": "3.13.0"
  }
 },
 "nbformat": 4,
 "nbformat_minor": 5
}
