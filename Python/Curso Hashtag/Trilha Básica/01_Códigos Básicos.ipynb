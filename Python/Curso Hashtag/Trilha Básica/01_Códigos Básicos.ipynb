{
 "cells": [
  {
   "cell_type": "code",
   "execution_count": null,
   "id": "ea07b7c2",
   "metadata": {},
   "outputs": [],
   "source": [
    "print(\"Bem Vindo ao curso hashtag treinamentos\")"
   ]
  },
  {
   "cell_type": "code",
   "execution_count": null,
   "id": "7159b701",
   "metadata": {},
   "outputs": [],
   "source": [
    "x : float;\n",
    "x = float(input(f\"Digite um numero: \"))\n",
    "print(f\"O numero digitado foi: {x}\")\n",
    "\n",
    "y: float;\n",
    "y = float(input(f\"Digite outro numero: \"))\n",
    "print(f\"O segundo numero digitado foi: {y}\")\n",
    "\n",
    "soma: float;\n",
    "soma = x + y\n",
    "print(f\"A soma dos numeros digitados é: {soma}\")\n",
    "\n",
    "if soma > 10:\n",
    "    print(f\"A soma é maior que 10\")\n",
    "elif soma < 10:\n",
    "    print(f\"A soma é menor que 10\")\n",
    "else:\n",
    "    print(f\"A soma é igual a 10\")\n",
    "\n",
    "# Fim do programa"
   ]
  },
  {
   "cell_type": "code",
   "execution_count": null,
   "id": "950b13a2",
   "metadata": {},
   "outputs": [],
   "source": [
    "print(\"***************\\n\")\n",
    "print(f\"Obrigado por participar do curso hashtag treinamentos\\n\")\n",
    "print(\"***************\\n\")\n",
    "\n",
    "num1: float;\n",
    "num2: float;\n",
    "\n",
    "num1 = float(input(\"Digite o primeiro numero: \"))\n",
    "num2 = float(input(\"Digite o segundo numero: \"))\n",
    "\n",
    "soma : float\n",
    "multiplicacao : float\n",
    "subtracao : float\n",
    "divisao : float\n",
    "\n",
    "multiplicacao = num1 * num2\n",
    "soma = num1 + num2\n",
    "divisao = num1 / num2\n",
    "subtracao = num1 - num2\n",
    "resto = num1 % num2\n",
    "\n",
    "\n",
    "escolha: int\n",
    "escolha = int(input(\"Escolha uma das opções: \\n1 - Soma\\n2 - Multiplicação\\n3 - Divisão\\n4 - Subtração\\n Digite sua opção: \"))\n",
    "\n",
    "if escolha == 1:\n",
    "    print(f\"A soma é: {soma}\") \n",
    "elif escolha == 2:\n",
    "    print(f\"A multiplicação é: {multiplicacao}\")\n",
    "elif escolha == 3:\n",
    "    print(f\"A divisão é: {divisao}\")\n",
    "elif escolha == 4:\n",
    "    print(f\"A subtração é: {subtracao}\")\n",
    "else:\n",
    "    print(\"Opção inválida, tente novamente\")\n"
   ]
  }
 ],
 "metadata": {
  "kernelspec": {
   "display_name": "Python 3",
   "language": "python",
   "name": "python3"
  },
  "language_info": {
   "name": "python",
   "version": "3.13.3"
  }
 },
 "nbformat": 4,
 "nbformat_minor": 5
}
