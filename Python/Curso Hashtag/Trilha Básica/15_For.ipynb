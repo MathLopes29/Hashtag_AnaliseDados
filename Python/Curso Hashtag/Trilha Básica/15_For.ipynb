{
 "cells": [
  {
   "cell_type": "code",
   "execution_count": 5,
   "id": "95dc3617",
   "metadata": {},
   "outputs": [
    {
     "name": "stdout",
     "output_type": "stream",
     "text": [
      "0\n",
      "1\n",
      "2\n",
      "3\n",
      "4\n"
     ]
    }
   ],
   "source": [
    "for i in range(5):\n",
    "    print(i)"
   ]
  },
  {
   "cell_type": "code",
   "execution_count": 7,
   "id": "8f18b58a",
   "metadata": {},
   "outputs": [
    {
     "name": "stdout",
     "output_type": "stream",
     "text": [
      "Produção do Coca é de 100\n",
      "Produção do Pepsi é de 120\n",
      "Produção do Guaraná é de 150\n",
      "Produção do Sprite é de 200\n"
     ]
    }
   ],
   "source": [
    "produtos = ['Coca', 'Pepsi', 'Guaraná', 'Sprite']\n",
    "producao = [100,120,150,200]\n",
    "\n",
    "for i in range(4):\n",
    "    print('Produção do {} é de {}'.format(produtos[i], producao[i]))"
   ]
  },
  {
   "cell_type": "code",
   "execution_count": 8,
   "id": "100a268a",
   "metadata": {},
   "outputs": [
    {
     "name": "stdout",
     "output_type": "stream",
     "text": [
      "Produção do Coca é de 100\n",
      "Produção do Pepsi é de 120\n",
      "Produção do Guaraná é de 150\n",
      "Produção do Sprite é de 200\n"
     ]
    }
   ],
   "source": [
    "tamanho = len(produtos)\n",
    "for i in range(tamanho):\n",
    "    print('Produção do {} é de {}'.format(produtos[i], producao[i]))"
   ]
  },
  {
   "cell_type": "code",
   "execution_count": 9,
   "id": "b908cbc3",
   "metadata": {},
   "outputs": [
    {
     "name": "stdout",
     "output_type": "stream",
     "text": [
      "Produtos: ['Coca', 'Pepsi', 'Guaraná', 'Sprite']\n",
      "Produtos: ['Coca', 'Pepsi', 'Guaraná', 'Sprite']\n",
      "Produtos: ['Coca', 'Pepsi', 'Guaraná', 'Sprite']\n",
      "Produtos: ['Coca', 'Pepsi', 'Guaraná', 'Sprite']\n"
     ]
    }
   ],
   "source": [
    "for i in produtos:\n",
    "    print('Produtos: {}'.format(produtos))"
   ]
  },
  {
   "cell_type": "code",
   "execution_count": 13,
   "id": "da49415c",
   "metadata": {},
   "outputs": [
    {
     "name": "stdout",
     "output_type": "stream",
     "text": [
      "Vendas que atingiram a meta: 300.00\n",
      "Vendas que atingiram a meta: 400.00\n",
      "Vendas que atingiram a meta: 150.00\n"
     ]
    }
   ],
   "source": [
    "vendas = [50,100,300,20,400,150,80]\n",
    "meta = 120\n",
    "\n",
    "for vendas in vendas:\n",
    "    if vendas >= meta:\n",
    "        print('Vendas que atingiram a meta: {:.2f}'.format(vendas)) "
   ]
  },
  {
   "cell_type": "code",
   "execution_count": 25,
   "id": "cc1a3aaa",
   "metadata": {},
   "outputs": [
    {
     "name": "stdout",
     "output_type": "stream",
     "text": [
      "O percentual de funcionários foi de 42.9%\n"
     ]
    }
   ],
   "source": [
    "vendas = [50,100,300,20,400,150,80]\n",
    "meta = 120\n",
    "qtd_bateu_meta = 0\n",
    "qtd_funcionario = len(vendas)\n",
    "\n",
    "for vendas in vendas:\n",
    "    if vendas >= meta:\n",
    "        qtd_bateu_meta += 1\n",
    "        #print('{:.2f}'.format(qtd_bateu_meta))\n",
    "\n",
    "print('O percentual de funcionários foi de {:.1%}'.format(qtd_bateu_meta/qtd_funcionario))"
   ]
  },
  {
   "cell_type": "code",
   "execution_count": 6,
   "id": "7393bc62",
   "metadata": {},
   "outputs": [
    {
     "name": "stdout",
     "output_type": "stream",
     "text": [
      "Produtos 120 e sua QTD Acíma do Estoque A\n",
      "Produtos 150 e sua QTD Acíma do Estoque B\n",
      "Produtos 63 e sua QTD Acíma do Estoque C\n",
      "Produtos 80 e sua QTD Acíma do Estoque F\n",
      "Produtos 77 e sua QTD Acíma do Estoque G\n",
      "Produtos 61 e sua QTD Acíma do Estoque H\n"
     ]
    }
   ],
   "source": [
    "estoque = [120, 150, 63, 55, 49, 80, 77, 61, 31, 25, 30]\n",
    "produtos = ['A','B','C','D','E','F','G','H','I','J','K']\n",
    "nivel_min = 60\n",
    "\n",
    "for i, qtd in enumerate(estoque):\n",
    "    if qtd >= nivel_min:\n",
    "        print('Produtos {} e sua QTD Acíma do Estoque {}'.format(qtd, produtos[i]))\n"
   ]
  },
  {
   "cell_type": "code",
   "execution_count": 7,
   "id": "6cc0ca4e",
   "metadata": {},
   "outputs": [
    {
     "name": "stdout",
     "output_type": "stream",
     "text": [
      "A\n",
      "B\n",
      "C\n",
      "D\n",
      "E\n",
      "F\n",
      "G\n",
      "H\n",
      "I\n",
      "J\n",
      "K\n"
     ]
    }
   ],
   "source": [
    "qtd_prod = len(produtos)\n",
    "for i in range(qtd_prod):\n",
    "    print(produtos[i])"
   ]
  },
  {
   "cell_type": "code",
   "execution_count": 11,
   "id": "6092f814",
   "metadata": {},
   "outputs": [
    {
     "name": "stdout",
     "output_type": "stream",
     "text": [
      "110.00\n",
      "99.00\n",
      "88.00\n"
     ]
    }
   ],
   "source": [
    "preco_ant = [100, 90, 80] \n",
    "for i in preco_ant:\n",
    "    print('{:.2f}'.format(i*1.10))"
   ]
  }
 ],
 "metadata": {
  "kernelspec": {
   "display_name": ".venv",
   "language": "python",
   "name": "python3"
  },
  "language_info": {
   "codemirror_mode": {
    "name": "ipython",
    "version": 3
   },
   "file_extension": ".py",
   "mimetype": "text/x-python",
   "name": "python",
   "nbconvert_exporter": "python",
   "pygments_lexer": "ipython3",
   "version": "3.13.0"
  }
 },
 "nbformat": 4,
 "nbformat_minor": 5
}
