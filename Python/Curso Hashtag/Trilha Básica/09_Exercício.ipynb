{
 "cells": [
  {
   "cell_type": "code",
   "execution_count": 1,
   "id": "05e3844b",
   "metadata": {},
   "outputs": [
    {
     "name": "stdout",
     "output_type": "stream",
     "text": [
      "CPF válido\n"
     ]
    }
   ],
   "source": [
    "cpf = input(\"Digite o CPF: \")\n",
    "\n",
    "# Verifica se o CPF é válido\n",
    "# Um CPF válido deve ter 11 dígitos numéricos\n",
    "\n",
    "cpf = cpf.replace(\".\", \"\").replace(\"-\", \"\")  # Remove pontos e traços\n",
    "cpf = cpf.strip()  # Remove espaços em branco\n",
    "\n",
    "if len(cpf) == 11 and cpf.isnumeric():\n",
    "    print(\"CPF válido\")\n",
    "else:\n",
    "    print(\"CPF inválido\")"
   ]
  },
  {
   "cell_type": "code",
   "execution_count": 5,
   "id": "24782cdf",
   "metadata": {},
   "outputs": [
    {
     "name": "stdout",
     "output_type": "stream",
     "text": [
      "E-mail válido\n",
      "E-mail com domínio comum\n",
      "E-mail de provedor popular\n",
      "Realizado o Cadastro com sucesso!\n"
     ]
    }
   ],
   "source": [
    "email = input(\"Digite o e-mail: \")\n",
    "email = email.strip()  # Remove espaços em branco\n",
    "email = email.lower()  # Converte para minúsculas\n",
    "\n",
    "# Verifica se o e-mail é válido\n",
    "# Um e-mail válido deve conter um '@' e um '.' após o '@'\n",
    "if '@' in email and '.' in email[email.index('@'):]:\n",
    "    print(\"E-mail válido\")\n",
    "else:\n",
    "    print(\"E-mail inválido\")\n",
    "\n",
    "if email.endswith(\".com\") or email.endswith(\".org\") or email.endswith(\".net\"):\n",
    "    print(\"E-mail com domínio comum\")\n",
    "else:\n",
    "    print(\"E-mail com domínio não comum\")\n",
    "\n",
    "if email.endswith(\"@gmail.com\") or email.endswith(\"@yahoo.com\") or email.endswith(\"@hotmail.com\"):\n",
    "    print(\"E-mail de provedor popular\")\n",
    "\n",
    "if email:\n",
    "    pos_a = email.find('@')\n",
    "    if pos_a != -1 and '.' in email[pos_a:]:\n",
    "        print(\"Realizado o Cadastro com sucesso!\")\n",
    "else:\n",
    "    print(\"Cadastro não realizado, e-mail inválido ou vazio.\")"
   ]
  },
  {
   "cell_type": "code",
   "execution_count": null,
   "id": "1baac695",
   "metadata": {},
   "outputs": [],
   "source": []
  }
 ],
 "metadata": {
  "kernelspec": {
   "display_name": ".venv",
   "language": "python",
   "name": "python3"
  },
  "language_info": {
   "codemirror_mode": {
    "name": "ipython",
    "version": 3
   },
   "file_extension": ".py",
   "mimetype": "text/x-python",
   "name": "python",
   "nbconvert_exporter": "python",
   "pygments_lexer": "ipython3",
   "version": "3.13.0"
  }
 },
 "nbformat": 4,
 "nbformat_minor": 5
}
