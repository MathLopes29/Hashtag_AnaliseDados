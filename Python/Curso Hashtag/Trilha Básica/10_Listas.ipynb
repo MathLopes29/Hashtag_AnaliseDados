{
 "cells": [
  {
   "cell_type": "code",
   "execution_count": null,
   "id": "fd580d43",
   "metadata": {},
   "outputs": [],
   "source": [
    "produtos = ['arroz', 'feijão', 'macarrão', 'carne', 'frango', 'peixe', 'ovo', 'leite', 'queijo', 'manteiga']\n",
    "\n",
    "def menu():\n",
    "    print(\"Menu de Produtos:\")\n",
    "    for i, produto in enumerate(produtos, start=1):\n",
    "        print(f\"{i}. {produto}\")\n",
    "    print(\"0. Sair\")"
   ]
  },
  {
   "cell_type": "code",
   "execution_count": 17,
   "id": "2425063b",
   "metadata": {},
   "outputs": [
    {
     "name": "stdout",
     "output_type": "stream",
     "text": [
      "10 produtos disponíveis.\n",
      "arroz\n"
     ]
    }
   ],
   "source": [
    "produtos = ['arroz', 'feijão', 'macarrão', 'carne', 'frango', 'peixe', 'ovo', 'leite', 'queijo', 'manteiga']\n",
    "\n",
    "print(f\"{len(produtos)} produtos disponíveis.\")\n",
    "print(produtos[0])"
   ]
  },
  {
   "cell_type": "code",
   "execution_count": 23,
   "id": "347f50dc",
   "metadata": {},
   "outputs": [
    {
     "name": "stdout",
     "output_type": "stream",
     "text": [
      "13 produtos disponíveis.\n",
      "Lista 1: ['açúcar', 'batata', 'batata', 'carne', 'feijão', 'frango', 'leite', 'macarrão', 'manteiga', 'manteiga', 'ovo', 'peixe', 'queijo']\n",
      "Lista 2: ['açúcar', 'batata', 'batata', 'carne', 'feijão', 'frango', 'leite', 'macarrão', 'manteiga', 'ovo', 'peixe', 'queijo']\n"
     ]
    }
   ],
   "source": [
    "produtos.append('batata')\n",
    "produtos.append('manteiga')\n",
    "produtos.pop(0) # Remove 'arroz' from the list\n",
    "produtos.remove('manteiga')  # Remove 'manteiga' from the list\n",
    "produtos.insert(0, 'açúcar')\n",
    "produtos.sort()\n",
    "\n",
    "print(f\"{len(produtos)} produtos disponíveis.\")\n",
    "\n",
    "lista1 = produtos.copy()\n",
    "\n",
    "lista2 = produtos.copy()\n",
    "lista2.remove('manteiga')\n",
    "\n",
    "print(f\"Lista 1: {lista1}\")\n",
    "print(f\"Lista 2: {lista2}\")\n"
   ]
  },
  {
   "cell_type": "code",
   "execution_count": 24,
   "id": "4b1de5cf",
   "metadata": {},
   "outputs": [
    {
     "name": "stdout",
     "output_type": "stream",
     "text": [
      "O produto 'açúcar' foi removido da lista.\n"
     ]
    }
   ],
   "source": [
    "try:\n",
    "    produtos.remove('açúcar')\n",
    "    print(\"O produto 'açúcar' foi removido da lista.\")\n",
    "except ValueError:\n",
    "    print(\"O produto 'açúcar' não está na lista.\")"
   ]
  },
  {
   "cell_type": "code",
   "execution_count": 26,
   "id": "228a5c01",
   "metadata": {},
   "outputs": [
    {
     "name": "stdout",
     "output_type": "stream",
     "text": [
      "Lista de preços: [[100, 150], [200, 250], [300, 350], [400, 450], [500, 550], [600, 650], [700, 750], [800, 850], [900, 950]]\n",
      "Preço Máximo: [900, 950]\n",
      "Preço Mínimo: [100, 150]\n",
      "Linha completa: [200, 250]\n",
      "Primeiro elemento da linha 1: 200\n"
     ]
    }
   ],
   "source": [
    "preco = [\n",
    "    [100, 150],\n",
    "    [200, 250], \n",
    "    [300, 350], \n",
    "    [400, 450], \n",
    "    [500, 550],\n",
    "    [600,650],\n",
    "    [700,750],\n",
    "    [800,850],\n",
    "    [900,950]\n",
    "]\n",
    "\n",
    "print(f\"Lista de preços: {preco}\")\n",
    "print(f\"Preço Máximo: {max(preco)}\")\n",
    "print(f\"Preço Mínimo: {min(preco)}\")\n",
    "print(f\"Linha completa: {preco[1]}\")\n",
    "print(f\"Primeiro elemento da linha 1: {preco[1][0]}\")"
   ]
  },
  {
   "cell_type": "code",
   "execution_count": null,
   "id": "e592fef8",
   "metadata": {},
   "outputs": [
    {
     "name": "stdout",
     "output_type": "stream",
     "text": [
      "O produto mais vendido é: manteiga\n"
     ]
    },
    {
     "data": {
      "text/plain": [
       "9"
      ]
     },
     "execution_count": 27,
     "metadata": {},
     "output_type": "execute_result"
    }
   ],
   "source": [
    "listaProdutos = ['arroz', 'feijão', 'macarrão', 'carne', 'frango', 'peixe', 'ovo', 'leite', 'queijo', 'manteiga']\n",
    "listaPrecos = [100, 150, 200, 250, 300, 350, 400, 450, 500, 550]\n",
    "\n",
    "maisVend = max(listaProdutos, key=lambda x: listaPrecos[listaProdutos.index(x)])\n",
    "print(f\"O produto mais vendido é: {maisVend}\")"
   ]
  },
  {
   "cell_type": "code",
   "execution_count": 49,
   "id": "e929bbe1",
   "metadata": {},
   "outputs": [
    {
     "name": "stdout",
     "output_type": "stream",
     "text": [
      "Lista combinada: ['arroz', 'feijão', 'macarrão', 'carne', 'frango', 'peixe']\n",
      "Lista extendida: ['arroz', 'feijão', 'macarrão', 'carne', 'frango', 'peixe']\n",
      "Lista ordenada: ['arroz', 'carne', 'feijão', 'frango', 'macarrão', 'peixe']\n",
      "Lista ordenada em ordem decrescente: ['peixe', 'macarrão', 'frango', 'feijão', 'carne', 'arroz']\n"
     ]
    }
   ],
   "source": [
    "# Como Juntar Listas\n",
    "lista1 = ['arroz', 'feijão', 'macarrão']\n",
    "lista2 = ['carne', 'frango', 'peixe']\n",
    "lista3 = lista1 + lista2\n",
    "print(f\"Lista combinada: {lista3}\")\n",
    "\n",
    "# Como Extender Listas\n",
    "lista1.extend(lista2)\n",
    "print(f\"Lista extendida: {lista1}\")\n",
    "\n",
    "# Ordenação de Listas\n",
    "lista1.sort()\n",
    "print(f\"Lista ordenada: {lista1}\")\n",
    "\n",
    "lista1.sort(reverse=True)\n",
    "print(f\"Lista ordenada em ordem decrescente: {lista1}\")"
   ]
  },
  {
   "cell_type": "code",
   "execution_count": 52,
   "id": "5977ed39",
   "metadata": {},
   "outputs": [
    {
     "name": "stdout",
     "output_type": "stream",
     "text": [
      "peixe,macarrão,frango,feijão,carne,arroz\n",
      "Lista 1 como string: peixe,macarrão,frango,feijão,carne,arroz\n",
      "Lista após split: ['arroz', 'feijão', 'macarrão', 'carne', 'frango', 'peixe', 'ovo', 'leite', 'queijo', 'manteiga']\n"
     ]
    }
   ],
   "source": [
    "print(','.join(lista1))\n",
    "print(f\"Lista 1 como string: {','.join(lista1)}\")\n",
    "\n",
    "# slpit\n",
    "lista_string = \"arroz,feijão,macarrão,carne,frango,peixe,ovo,leite,queijo,manteiga\"\n",
    "lista_split = lista_string.split(',')\n",
    "print(f\"Lista após split: {lista_split}\")"
   ]
  }
 ],
 "metadata": {
  "kernelspec": {
   "display_name": ".venv",
   "language": "python",
   "name": "python3"
  },
  "language_info": {
   "codemirror_mode": {
    "name": "ipython",
    "version": 3
   },
   "file_extension": ".py",
   "mimetype": "text/x-python",
   "name": "python",
   "nbconvert_exporter": "python",
   "pygments_lexer": "ipython3",
   "version": "3.13.0"
  }
 },
 "nbformat": 4,
 "nbformat_minor": 5
}
