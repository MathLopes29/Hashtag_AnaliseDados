{
 "cells": [
  {
   "cell_type": "code",
   "execution_count": null,
   "id": "51d20dff",
   "metadata": {},
   "outputs": [],
   "source": [
    "# Operadores em Python\n",
    "\n",
    "# OPERADORES DE COMPARAÇÃO\n",
    "# <  Menor que\n",
    "# <= Menor ou igual a\n",
    "# >  Maior que\n",
    "# >= Maior ou igual a\n",
    "# == Igual a\n",
    "# != Diferente de\n",
    "\n",
    "# OPERADORES LÓGICOS\n",
    "# and  E lógico\n",
    "# or   Ou lógico\n",
    "# not  Não lógico\n",
    "\n",
    "# OPERADORES DE ATRIBUIÇÃO\n",
    "# =   Atribuição simples\n",
    "# +=  Atribuição com adição\n",
    "# -=  Atribuição com subtração\n",
    "# *=  Atribuição com multiplicação\n",
    "# /=  Atribuição com divisão\n",
    "# %=  Atribuição com módulo\n",
    "# **= Atribuição com exponenciação\n",
    "\n",
    "# OPERADORES ARITMÉTICOS\n",
    "# +   Adição\n",
    "# -   Subtração\n",
    "# *   Multiplicação\n",
    "# /   Divisão\n",
    "# %   Módulo (resto da divisão)\n",
    "# **  Exponenciação\n",
    "# //  Divisão inteira (quociente da divisão)\n",
    "\n",
    "# OPERADORES DE IDENTIDADE\n",
    "# is   Verifica se dois objetos são o mesmo objeto\n",
    "# is not Verifica se dois objetos não são o mesmo objeto\n",
    "\n",
    "# OPERADORES DE MEMBROS\n",
    "# in   Verifica se um valor está contido em uma coleção (lista, tupla, etc.)\n",
    "# not in Verifica se um valor não está contido em uma coleção (lista, tupla, etc.)\n",
    "\n",
    "# OPERADORES DE BIT A BIT\n",
    "# &   E bit a bit\n",
    "# |   OU bit a bit\n",
    "# ^   OU exclusivo bit a bit\n",
    "# ~   NÃO bit a bit\n",
    "# <<  Deslocamento à esquerda\n",
    "# >>  Deslocamento à direita\n",
    "\n",
    "# OPERADORES DE PRIORIDADE\n",
    "# 1. Parênteses ()\n",
    "# 2. Exponenciação **\n",
    "# 3. Multiplicação, Divisão, Módulo (*, /, %)\n",
    "# 4. Adição, Subtração (+, -)\n",
    "# 5. Comparação (<, <=, >, >=, ==, !=)\n",
    "# 6. Operadores lógicos (and, or, not)"
   ]
  },
  {
   "cell_type": "code",
   "execution_count": null,
   "id": "476d3c4b",
   "metadata": {},
   "outputs": [],
   "source": [
    "condicao : float;\n",
    "condicao = float(input(\"Digite a condição: \"))\n",
    "\n",
    "if condicao < 0:\n",
    "    print(\"A condição é negativa.\")\n",
    "elif condicao == 0:\n",
    "    print(\"A condição é zero.\")\n",
    "else:\n",
    "    print(\"A condição é positiva.\")"
   ]
  },
  {
   "cell_type": "code",
   "execution_count": null,
   "id": "e134b479",
   "metadata": {},
   "outputs": [],
   "source": [
    "nota : float;\n",
    "nota = float(input(\"Digite a nota: \"))\n",
    "\n",
    "if nota >= 7:\n",
    "    print(\"Aprovado\")\n",
    "elif nota >= 5:\n",
    "    print(\"Recuperação\")\n",
    "else:\n",
    "    print(\"Reprovado\")"
   ]
  },
  {
   "cell_type": "code",
   "execution_count": 2,
   "id": "0c87d63d",
   "metadata": {},
   "outputs": [
    {
     "name": "stdout",
     "output_type": "stream",
     "text": [
      "Você receberá um bônus de 0.60 reais.\n"
     ]
    }
   ],
   "source": [
    "meta : float;\n",
    "meta = float(input(\"Digite a meta: \"))\n",
    "\n",
    "vendas : float;\n",
    "vendas = float(input(\"Digite o total de vendas: \"))\n",
    "\n",
    "bonus : float;\n",
    "\n",
    "if vendas < meta:\n",
    "    print(\"Meta não atingida.\")\n",
    "elif vendas > (meta*2):\n",
    "    bonus = vendas * 0.07\n",
    "    print(f\"Você receberá um bônus de {bonus:.2f} reais.\")\n",
    "else:\n",
    "    bonus = vendas * 0.03\n",
    "    print(f\"Você receberá um bônus de {bonus:.2f} reais.\")\n",
    "\n"
   ]
  },
  {
   "cell_type": "code",
   "execution_count": 14,
   "id": "6e5fadbc",
   "metadata": {},
   "outputs": [
    {
     "name": "stdout",
     "output_type": "stream",
     "text": [
      "Você não digitou nada.\n"
     ]
    }
   ],
   "source": [
    "msg = input(\"Digite seu e-mail: \")\n",
    "\n",
    "if not msg:\n",
    "    print(\"Você não digitou nada.\")\n",
    "elif msg.endswith(\"@gmail.com\") or msg.endswith(\"@outlook.com\"):\n",
    "    print(\"E-mail válido.\")\n",
    "else:\n",
    "    print(\"E-mail inválido. Use @gmail.com ou @outlook.com.\")\n"
   ]
  },
  {
   "cell_type": "code",
   "execution_count": 19,
   "id": "d3ef7840",
   "metadata": {},
   "outputs": [
    {
     "name": "stdout",
     "output_type": "stream",
     "text": [
      "Fat e custo não fornecido.\n"
     ]
    }
   ],
   "source": [
    "# Cálculo de lucro\n",
    "fat = (input(\"Digite um número para calcular o fatorial: \"))\n",
    "custo = (input(\"Digite o custo do produto: \"))\n",
    "\n",
    "if fat and custo:\n",
    "    lucro = int(fat) - int(custo)\n",
    "    print(f\"O lucro é: {lucro}\")\n",
    "else:\n",
    "    print(\"Fat e custo não fornecido.\")\n"
   ]
  }
 ],
 "metadata": {
  "kernelspec": {
   "display_name": "Python 3",
   "language": "python",
   "name": "python3"
  },
  "language_info": {
   "codemirror_mode": {
    "name": "ipython",
    "version": 3
   },
   "file_extension": ".py",
   "mimetype": "text/x-python",
   "name": "python",
   "nbconvert_exporter": "python",
   "pygments_lexer": "ipython3",
   "version": "3.13.3"
  }
 },
 "nbformat": 4,
 "nbformat_minor": 5
}
