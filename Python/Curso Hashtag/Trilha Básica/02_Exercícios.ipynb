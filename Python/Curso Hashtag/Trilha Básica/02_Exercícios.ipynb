{
 "cells": [
  {
   "cell_type": "markdown",
   "id": "efe53756",
   "metadata": {},
   "source": [
    "EXERCÍCIOS 1ª MÓDULO \n",
    "\n",
    "Crie um programa que imprima os principais indicadores no último ano\n",
    "\n",
    "QTD Coca Cola = 150\n",
    "QTD Pepsi = 130\n",
    "\n",
    "Preço Unitário da Coca e Pepsi = 1.5\n",
    "Custo para a Loja = 2500.00"
   ]
  },
  {
   "cell_type": "code",
   "execution_count": 4,
   "id": "c8bfe5a8",
   "metadata": {},
   "outputs": [
    {
     "name": "stdout",
     "output_type": "stream",
     "text": [
      "Número de Vndas da Coca Cola:  150.0\n",
      "Número de Vndas da Pepsi:  130.0\n"
     ]
    }
   ],
   "source": [
    "QTDcoca : float;\n",
    "QTDcoca = (float(input(\"Número de Vndas da Coca Cola: \")))\n",
    "print(\"Número de Vndas da Coca Cola: \", QTDcoca)\n",
    "\n",
    "QTDpepsi : float\n",
    "QTDpepsi = (float(input(\"Número de Vndas da Pepsi: \")))\n",
    "print(\"Número de Vndas da Pepsi: \", QTDpepsi)"
   ]
  },
  {
   "cell_type": "code",
   "execution_count": 5,
   "id": "6950f954",
   "metadata": {},
   "outputs": [
    {
     "name": "stdout",
     "output_type": "stream",
     "text": [
      "Custo unitário da Coca Cola:  1.5\n",
      "Custo unitário da Pepsi:  1.5\n"
     ]
    }
   ],
   "source": [
    "custoCocaUnt : float\n",
    "custoCocaUnt = (float(input(\"Custo unitário da Coca Cola: \")))\n",
    "print(\"Custo unitário da Coca Cola: \", custoCocaUnt)\n",
    "\n",
    "custoPepsiUnt : float\n",
    "custoPepsiUnt = (float(input(\"Custo unitário da Pepsi: \")))\n",
    "print(\"Custo unitário da Pepsi: \", custoPepsiUnt)"
   ]
  },
  {
   "cell_type": "code",
   "execution_count": 6,
   "id": "40d836f6",
   "metadata": {},
   "outputs": [
    {
     "name": "stdout",
     "output_type": "stream",
     "text": [
      "Total da Pepsi:  195.0\n"
     ]
    }
   ],
   "source": [
    "totalPepsi : float\n",
    "totalPepsi = QTDpepsi * custoPepsiUnt\n",
    "print(\"Total da Pepsi: \", totalPepsi)"
   ]
  },
  {
   "cell_type": "code",
   "execution_count": 7,
   "id": "a9cfc9b3",
   "metadata": {},
   "outputs": [
    {
     "name": "stdout",
     "output_type": "stream",
     "text": [
      "Total da Coca Cola:  225.0\n"
     ]
    }
   ],
   "source": [
    "totalCoca : float\n",
    "totalCoca = QTDcoca * custoCocaUnt\n",
    "print(\"Total da Coca Cola: \", totalCoca)"
   ]
  },
  {
   "cell_type": "code",
   "execution_count": 11,
   "id": "80c7ac15",
   "metadata": {},
   "outputs": [
    {
     "name": "stdout",
     "output_type": "stream",
     "text": [
      "Faturamento da Coca Cola:  225.0\n",
      "Faturamento da Pepsi:  195.0\n"
     ]
    }
   ],
   "source": [
    "fatcoCoca : float\n",
    "fatcoCoca = totalCoca\n",
    "print(\"Faturamento da Coca Cola: \", fatcoCoca)\n",
    "\n",
    "fatpepsi : float\n",
    "fatpepsi = totalPepsi\n",
    "print(\"Faturamento da Pepsi: \", fatpepsi)"
   ]
  },
  {
   "cell_type": "code",
   "execution_count": 12,
   "id": "42b2168d",
   "metadata": {},
   "outputs": [
    {
     "name": "stdout",
     "output_type": "stream",
     "text": [
      "Faturamento Total:  420.0\n"
     ]
    }
   ],
   "source": [
    "fatTotal : float\n",
    "fatTotal = fatcoCoca + fatpepsi\n",
    "print(\"Faturamento Total: \", fatTotal)"
   ]
  },
  {
   "cell_type": "code",
   "execution_count": 13,
   "id": "00e057d4",
   "metadata": {},
   "outputs": [
    {
     "name": "stdout",
     "output_type": "stream",
     "text": [
      "Custo da loja:  2500.0\n",
      "Lucro da loja:  -2080.0\n"
     ]
    }
   ],
   "source": [
    "custoLoja : float\n",
    "custoLoja = (float(input(\"Custo da loja: \")))\n",
    "print(\"Custo da loja: \", custoLoja)\n",
    "\n",
    "lucroLoja : float\n",
    "lucroLoja = fatTotal - custoLoja\n",
    "print(\"Lucro da loja: \", lucroLoja)"
   ]
  },
  {
   "cell_type": "code",
   "execution_count": 15,
   "id": "9fcf403c",
   "metadata": {},
   "outputs": [
    {
     "name": "stdout",
     "output_type": "stream",
     "text": [
      "Margem de lucro da loja:  -4.9523809523809526\n"
     ]
    }
   ],
   "source": [
    "margemLoja : float\n",
    "margemLoja = (lucroLoja / fatTotal)\n",
    "print(\"Margem de lucro da loja: \", margemLoja)"
   ]
  },
  {
   "cell_type": "markdown",
   "id": "f85362a1",
   "metadata": {},
   "source": [
    "2ª EXERCÍCIO\n",
    "\n",
    "Cadastro de bebidas\n",
    "inserir um Cod e dependendo dele identificar se é alcóolico ou não!"
   ]
  },
  {
   "cell_type": "code",
   "execution_count": 19,
   "id": "261fd6d3",
   "metadata": {},
   "outputs": [
    {
     "name": "stdout",
     "output_type": "stream",
     "text": [
      "Código do produto:  BAC123654\n",
      "O produto é alcóolico\n"
     ]
    }
   ],
   "source": [
    "códigoProduto : str\n",
    "códigoProduto = (input(\"Código do produto: \"))\n",
    "print(\"Código do produto: \", códigoProduto)\n",
    "\n",
    "if códigoProduto.startswith(\"BAC\"):\n",
    "    print(\"O produto é alcóolico\")\n",
    "else:\n",
    "    print(\"O produto não é alcóolico\")"
   ]
  }
 ],
 "metadata": {
  "kernelspec": {
   "display_name": "Python 3",
   "language": "python",
   "name": "python3"
  },
  "language_info": {
   "codemirror_mode": {
    "name": "ipython",
    "version": 3
   },
   "file_extension": ".py",
   "mimetype": "text/x-python",
   "name": "python",
   "nbconvert_exporter": "python",
   "pygments_lexer": "ipython3",
   "version": "3.13.3"
  }
 },
 "nbformat": 4,
 "nbformat_minor": 5
}
