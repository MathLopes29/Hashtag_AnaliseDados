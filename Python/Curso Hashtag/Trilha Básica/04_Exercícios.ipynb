{
 "cells": [
  {
   "cell_type": "markdown",
   "id": "ffedd52e",
   "metadata": {},
   "source": [
    "1) Faça um programa mostrar Hello Word\n",
    "2) Print de número digitado\n",
    "3) Soma de dois numeros digitados\n",
    "4) Média de dois números\n",
    "5) Metros para cm"
   ]
  },
  {
   "cell_type": "code",
   "execution_count": 2,
   "id": "373c0975",
   "metadata": {},
   "outputs": [
    {
     "name": "stdout",
     "output_type": "stream",
     "text": [
      "Mensagem do pyhton Hello, World!, seja bem-vindo ao curso de Python!\n",
      "<class 'str'>\n"
     ]
    }
   ],
   "source": [
    "msg = \"Hello, World!\"\n",
    "print(f\"Mensagem do pyhton {msg}, seja bem-vindo ao curso de Python!\")\n",
    "print(f\"{type(msg)}\")"
   ]
  },
  {
   "cell_type": "code",
   "execution_count": 3,
   "id": "ee7c8fcd",
   "metadata": {},
   "outputs": [
    {
     "name": "stdout",
     "output_type": "stream",
     "text": [
      "Você digitou o valor 5 do tipo <class 'int'>\n"
     ]
    }
   ],
   "source": [
    "valor : int;\n",
    "valor = (int(input(\"Digite um valor inteiro: \")))\n",
    "print(f\"Você digitou o valor {valor} do tipo {type(valor)}\")"
   ]
  },
  {
   "cell_type": "code",
   "execution_count": 4,
   "id": "ffd78f1d",
   "metadata": {},
   "outputs": [
    {
     "name": "stdout",
     "output_type": "stream",
     "text": [
      "Você digitou o valor 4.5 do tipo <class 'float'>\n",
      "Você digitou o valor 9.6 do tipo <class 'float'>\n",
      "A soma dos valores reais é 14.1 do tipo <class 'float'>\n"
     ]
    }
   ],
   "source": [
    "valor1 : float;\n",
    "valor1 = (float(input(\"Digite um valor real: \")))   \n",
    "print(f\"Você digitou o valor {valor1} do tipo {type(valor1)}\")\n",
    "\n",
    "valor2 : float;\n",
    "valor2 = (float(input(\"Digite outro valor real: \")))\n",
    "print(f\"Você digitou o valor {valor2} do tipo {type(valor2)}\")\n",
    "\n",
    "soma = valor1 + valor2\n",
    "print(f\"A soma dos valores reais é {soma} do tipo {type(soma)}\")\n",
    "      \n"
   ]
  },
  {
   "cell_type": "code",
   "execution_count": 5,
   "id": "62e0dbeb",
   "metadata": {},
   "outputs": [
    {
     "name": "stdout",
     "output_type": "stream",
     "text": [
      "A média dos valores reais é 7.05 do tipo <class 'float'>\n"
     ]
    }
   ],
   "source": [
    "media : float;\n",
    "media = (valor1 + valor2) / len([valor1, valor2])\n",
    "print(f\"A média dos valores reais é {media} do tipo {type(media)}\")"
   ]
  },
  {
   "cell_type": "code",
   "execution_count": 6,
   "id": "884dba0e",
   "metadata": {},
   "outputs": [
    {
     "name": "stdout",
     "output_type": "stream",
     "text": [
      "O valor em centímetros é 130.0 do tipo <class 'float'>\n"
     ]
    }
   ],
   "source": [
    "metros : float;\n",
    "metros = (float(input(\"Digite um valor em metros: \")))\n",
    "\n",
    "centimetros = metros * 100\n",
    "print(f\"O valor em centímetros é {centimetros} do tipo {type(centimetros)}\")"
   ]
  }
 ],
 "metadata": {
  "kernelspec": {
   "display_name": "Python 3",
   "language": "python",
   "name": "python3"
  },
  "language_info": {
   "codemirror_mode": {
    "name": "ipython",
    "version": 3
   },
   "file_extension": ".py",
   "mimetype": "text/x-python",
   "name": "python",
   "nbconvert_exporter": "python",
   "pygments_lexer": "ipython3",
   "version": "3.13.3"
  }
 },
 "nbformat": 4,
 "nbformat_minor": 5
}
