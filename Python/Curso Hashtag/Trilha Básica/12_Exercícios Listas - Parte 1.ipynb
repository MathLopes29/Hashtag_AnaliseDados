{
 "cells": [
  {
   "cell_type": "markdown",
   "metadata": {},
   "source": [
    "# Exercícios\n",
    "\n",
    "## 1. Faturamento do Melhor e do Pior Mês do Ano\n",
    "\n",
    "Qual foi o valor de vendas do melhor mês do Ano?\n",
    "E valor do pior mês do ano?"
   ]
  },
  {
   "cell_type": "code",
   "execution_count": 2,
   "metadata": {},
   "outputs": [
    {
     "name": "stdout",
     "output_type": "stream",
     "text": [
      "Maior venda do 1º semestre: R$ 29000.00\n",
      "Maior venda do 2º semestre: R$ 49051.00\n",
      "Maior venda do ano: R$ 49051.00\n",
      "Maior mês de vendas: nov\n"
     ]
    }
   ],
   "source": [
    "meses = ['jan', 'fev', 'mar', 'abr', 'mai', 'jun', 'jul', 'ago', 'set', 'out', 'nov', 'dez']\n",
    "vendas_1sem = [25000, 29000, 22200, 17750, 15870, 19900]\n",
    "vendas_2sem = [19850, 20120, 17540, 15555, 49051, 9650]\n",
    "\n",
    "\n",
    "max(vendas_1sem, key=lambda x: vendas_1sem[vendas_1sem.index(x)])  # Retorna o maior valor da lista vendas_1sem\n",
    "max(vendas_2sem, key=lambda x: vendas_2sem[vendas_2sem.index(x)])  # Retorna o maior valor da lista vendas_2sem\n",
    "\n",
    "print('Maior venda do 1º semestre: R$ {:.2f}'.format(max(vendas_1sem)))\n",
    "print('Maior venda do 2º semestre: R$ {:.2f}'.format(max(vendas_2sem)))\n",
    "\n",
    "\n",
    "\n",
    "\n",
    "Maxtotal = max(vendas_1sem + vendas_2sem)\n",
    "print('Maior venda do ano: R$ {:.2f}'.format(Maxtotal))\n",
    "print('Maior mês de vendas: {}'.format(meses[(vendas_1sem + vendas_2sem).index(Maxtotal)]))"
   ]
  },
  {
   "cell_type": "code",
   "execution_count": 9,
   "metadata": {},
   "outputs": [
    {
     "name": "stdout",
     "output_type": "stream",
     "text": [
      "Maior mês de vendas: nov\n",
      "Maior valor: R$ 49051.00\n"
     ]
    }
   ],
   "source": [
    "lista_completa = vendas_1sem + vendas_2sem  # Corrigido: concatenação de listas\n",
    "total = lista_completa\n",
    "print('Maior mês de vendas: {}'.format(meses[total.index(max(total))]))\n",
    "print('Maior valor: R$ {:.2f}'.format(max(total)))\n"
   ]
  },
  {
   "cell_type": "markdown",
   "metadata": {},
   "source": [
    "## 2. Continuação\n",
    "\n",
    "Agora relacione as duas listas para printar 'O melhor mês do ano foi {} com {} vendas' e o mesmo para o pior mês do ano.\n",
    "\n",
    "Calcule também o faturamento total do Ano e quanto que o melhor mês representou do faturamento total.\n",
    "\n",
    "Obs: Para o faturamento total, pode usar a função sum(lista) que soma todos os itens de uma lista"
   ]
  },
  {
   "cell_type": "code",
   "execution_count": 27,
   "metadata": {},
   "outputs": [
    {
     "name": "stdout",
     "output_type": "stream",
     "text": [
      "Maior mês de vendas: nov\n",
      "Representando um valor de R$ 49051.00\n",
      "Faturamento total do ano: R$ 920316.00\n",
      "percentual total do maior mês de vendas: 5.33%\n"
     ]
    }
   ],
   "source": [
    "#vendas_total = vendas_1sem + vendas_2sem\n",
    "vendas_1sem.extend(vendas_2sem)  # Combina as vendas dos dois semestres\n",
    "vendas_total = vendas_1sem\n",
    "print('Maior mês de vendas: {}'.format(meses[vendas_total.index(max(vendas_total))]))\n",
    "print('Representando um valor de R$ {:.2f}'.format(max(vendas_total)))\n",
    "\n",
    "fat_total = sum(vendas_total)\n",
    "print('Faturamento total do ano: R$ {:.2f}'.format(fat_total))\n",
    "\n",
    "percentual = (max(vendas_total) / fat_total) * 100\n",
    "print('percentual total do maior mês de vendas: {:.2f}%'.format(percentual))"
   ]
  },
  {
   "cell_type": "markdown",
   "metadata": {},
   "source": [
    "## 3. Crie uma lista com o top 3 valores de vendas do ano (sem fazer \"no olho\")\n",
    "\n",
    "Dica: o método remove retira um item da lista."
   ]
  },
  {
   "cell_type": "code",
   "execution_count": 24,
   "metadata": {},
   "outputs": [
    {
     "name": "stdout",
     "output_type": "stream",
     "text": [
      "Top 3 vendas: [15]\n",
      "Top 3 vendas: [15, 15]\n",
      "Top 3 vendas: [15, 15, 15]\n"
     ]
    }
   ],
   "source": [
    "top3 = []\n",
    "\n",
    "limite = int(input('Informe o limite de vendas: '))\n",
    "valor = int(input('Informe o valor: '))\n",
    "\n",
    "for i in range (limite):\n",
    "    if i < limite:\n",
    "        top3.append(valor)\n",
    "        top3.sort(reverse=True)  # Ordena a lista top3 em ordem decrescente\n",
    "        print('Top 3 vendas: {}'.format(top3[:3]))  # Exibe os três maiores valores\n",
    "    elif i == limite:\n",
    "        print('Limite atingido, não é possível adicionar mais vendas.')\n",
    "        break"
   ]
  }
 ],
 "metadata": {
  "kernelspec": {
   "display_name": ".venv",
   "language": "python",
   "name": "python3"
  },
  "language_info": {
   "codemirror_mode": {
    "name": "ipython",
    "version": 3
   },
   "file_extension": ".py",
   "mimetype": "text/x-python",
   "name": "python",
   "nbconvert_exporter": "python",
   "pygments_lexer": "ipython3",
   "version": "3.13.0"
  }
 },
 "nbformat": 4,
 "nbformat_minor": 4
}
