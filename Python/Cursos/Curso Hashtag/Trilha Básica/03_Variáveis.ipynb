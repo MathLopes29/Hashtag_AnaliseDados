{
 "cells": [
  {
   "cell_type": "code",
   "execution_count": 2,
   "id": "b589db3e",
   "metadata": {},
   "outputs": [
    {
     "data": {
      "text/plain": [
       "['__abs__',\n",
       " '__add__',\n",
       " '__bool__',\n",
       " '__ceil__',\n",
       " '__class__',\n",
       " '__delattr__',\n",
       " '__dir__',\n",
       " '__divmod__',\n",
       " '__doc__',\n",
       " '__eq__',\n",
       " '__float__',\n",
       " '__floor__',\n",
       " '__floordiv__',\n",
       " '__format__',\n",
       " '__ge__',\n",
       " '__getattribute__',\n",
       " '__getformat__',\n",
       " '__getnewargs__',\n",
       " '__getstate__',\n",
       " '__gt__',\n",
       " '__hash__',\n",
       " '__init__',\n",
       " '__init_subclass__',\n",
       " '__int__',\n",
       " '__le__',\n",
       " '__lt__',\n",
       " '__mod__',\n",
       " '__mul__',\n",
       " '__ne__',\n",
       " '__neg__',\n",
       " '__new__',\n",
       " '__pos__',\n",
       " '__pow__',\n",
       " '__radd__',\n",
       " '__rdivmod__',\n",
       " '__reduce__',\n",
       " '__reduce_ex__',\n",
       " '__repr__',\n",
       " '__rfloordiv__',\n",
       " '__rmod__',\n",
       " '__rmul__',\n",
       " '__round__',\n",
       " '__rpow__',\n",
       " '__rsub__',\n",
       " '__rtruediv__',\n",
       " '__setattr__',\n",
       " '__sizeof__',\n",
       " '__str__',\n",
       " '__sub__',\n",
       " '__subclasshook__',\n",
       " '__truediv__',\n",
       " '__trunc__',\n",
       " 'as_integer_ratio',\n",
       " 'conjugate',\n",
       " 'fromhex',\n",
       " 'hex',\n",
       " 'imag',\n",
       " 'is_integer',\n",
       " 'real']"
      ]
     },
     "execution_count": 2,
     "metadata": {},
     "output_type": "execute_result"
    }
   ],
   "source": [
    "dir(float)"
   ]
  },
  {
   "cell_type": "code",
   "execution_count": 6,
   "id": "a9e9ca0c",
   "metadata": {},
   "outputs": [
    {
     "name": "stdout",
     "output_type": "stream",
     "text": [
      "x (9.9) is not greater than y (10)\n"
     ]
    }
   ],
   "source": [
    "'''\n",
    "int\n",
    "float\n",
    "str\n",
    "bool\n",
    "\n",
    "dir(str)\n",
    "'''\n",
    "\n",
    "x : float\n",
    "y : int\n",
    "z : str\n",
    "\n",
    "x = float(input(\"Enter a float value for x: \"))\n",
    "y = int(input(\"Enter an integer value for y: \"))\n",
    "# z = str(input(\"Enter a string value for z: \"))\n",
    "\n",
    "if x > y:\n",
    "    print(f\"x ({x}) is greater than y ({y})\")\n",
    "else:\n",
    "    print(f\"x ({x}) is not greater than y ({y})\")\n"
   ]
  },
  {
   "cell_type": "code",
   "execution_count": 2,
   "id": "739d27ed",
   "metadata": {},
   "outputs": [
    {
     "name": "stdout",
     "output_type": "stream",
     "text": [
      "O valor de faturamento é 1000 e o tipo é <class 'int'>\n",
      "Digite um valor para faturamento: 1000 e o tipo é <class 'str'>\n",
      "Digite um valor para faturamento: 1000.0 e o tipo é <class 'float'>\n",
      "Valor convertido para float: 123.45 e o tipo é <class 'float'>\n"
     ]
    }
   ],
   "source": [
    "faturamento = 1000\n",
    "print(f\"O valor de faturamento é {faturamento} e o tipo é {type(faturamento)}\")\n",
    "print(f\"Digite um valor para faturamento: {str(faturamento)} e o tipo é {type(str(faturamento))}\")\n",
    "print(f\"Digite um valor para faturamento: {float(faturamento)} e o tipo é {type(float(faturamento))}\")\n",
    "\n",
    "# Demonstrating type conversion\n",
    "valor = \"123.45\"\n",
    "try:\n",
    "    valor_float = float(valor)\n",
    "    print(f\"Valor convertido para float: {valor_float} e o tipo é {type(valor_float)}\")\n",
    "except ValueError:\n",
    "    print(f\"Não foi possível converter '{valor}' para float.\")"
   ]
  }
 ],
 "metadata": {
  "kernelspec": {
   "display_name": "Python 3",
   "language": "python",
   "name": "python3"
  },
  "language_info": {
   "codemirror_mode": {
    "name": "ipython",
    "version": 3
   },
   "file_extension": ".py",
   "mimetype": "text/x-python",
   "name": "python",
   "nbconvert_exporter": "python",
   "pygments_lexer": "ipython3",
   "version": "3.13.3"
  }
 },
 "nbformat": 4,
 "nbformat_minor": 5
}
