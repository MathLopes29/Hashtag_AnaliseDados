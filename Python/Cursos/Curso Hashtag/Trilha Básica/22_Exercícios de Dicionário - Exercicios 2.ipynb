{
 "cells": [
  {
   "cell_type": "markdown",
   "metadata": {},
   "source": [
    "# Exercícios\n",
    "\n",
    "## 1. Exercício \"menos prático\" para treinar manipulação de dicionário\n",
    "\n",
    "Dessa vez, vamos apenas treinar a manipulação de dicionário. Transforme as listas abaixo em 1 único dicionário no formato:"
   ]
  },
  {
   "cell_type": "raw",
   "metadata": {},
   "source": [
    "dicionario = {\n",
    "    produto: [vendas2019, vendas2020],\n",
    "    produto2: [vendas2019, vendas2020],\n",
    "    produto3: [vendas2019, vendas2020],\n",
    "    ...\n",
    "}"
   ]
  },
  {
   "cell_type": "markdown",
   "metadata": {},
   "source": [
    "- Apesar de parecer \"menos prático\" esse é um procedimento que precisamos nos acostumar a fazer, visto que algumas funções (tema dos próximos módulos) precisam de dicionários para funcionar e saber transformar listas em dicionários (e vice-versa) é uma habilidade muito útil\n",
    "\n",
    "Obs: Lembre do zip para juntar listas.<br>\n",
    "Obs2: Repare que cada item das vendas é na verdade uma lista. Então é provável que você precise fazer esse código em 2 etapas"
   ]
  },
  {
   "cell_type": "code",
   "execution_count": 16,
   "metadata": {},
   "outputs": [
    {
     "name": "stdout",
     "output_type": "stream",
     "text": [
      "O produto iphone teve um aumento nas vendas de 558147 em 2019 para 951642 em 2020.\n",
      "O produto tv teve um aumento nas vendas de 405252 em 2019 para 787604 em 2020.\n",
      "O produto máquina de café teve um aumento nas vendas de 718654 em 2019 para 867660 em 2020.\n",
      "O produto notebook dell teve um aumento nas vendas de 422760 em 2019 para 694913 em 2020.\n",
      "O produto notebook hp teve um aumento nas vendas de 154753 em 2019 para 539704 em 2020.\n",
      "O produto microsoft surface teve um aumento nas vendas de 438508 em 2019 para 667179 em 2020.\n",
      "O produto webcam teve um aumento nas vendas de 237467 em 2019 para 295633 em 2020.\n",
      "O produto caixa de som teve um aumento nas vendas de 489705 em 2019 para 725316 em 2020.\n",
      "O produto microfone teve um aumento nas vendas de 328311 em 2019 para 644622 em 2020.\n",
      "O produto câmera canon teve um aumento nas vendas de 591120 em 2019 para 994303 em 2020.\n",
      "\n",
      "-------\n",
      "\n",
      "O produto iphone teve um aumento nas vendas de 558147 em 2019 para 951642 em 2020.\n",
      "O produto tv teve um aumento nas vendas de 405252 em 2019 para 787604 em 2020.\n",
      "O produto máquina de café teve um aumento nas vendas de 718654 em 2019 para 867660 em 2020.\n",
      "O produto notebook dell teve um aumento nas vendas de 422760 em 2019 para 694913 em 2020.\n",
      "O produto notebook hp teve um aumento nas vendas de 154753 em 2019 para 539704 em 2020.\n",
      "O produto microsoft surface teve um aumento nas vendas de 438508 em 2019 para 667179 em 2020.\n",
      "O produto webcam teve um aumento nas vendas de 237467 em 2019 para 295633 em 2020.\n",
      "O produto caixa de som teve um aumento nas vendas de 489705 em 2019 para 725316 em 2020.\n",
      "O produto microfone teve um aumento nas vendas de 328311 em 2019 para 644622 em 2020.\n",
      "O produto câmera canon teve um aumento nas vendas de 591120 em 2019 para 994303 em 2020.\n"
     ]
    }
   ],
   "source": [
    "produtos = ['iphone', 'galaxy', 'ipad', 'tv', 'máquina de café', 'kindle', 'geladeira', 'adega', 'notebook dell', 'notebook hp', 'notebook asus', 'microsoft surface', 'webcam', 'caixa de som', 'microfone', 'câmera canon']\n",
    "vendas2019 = [558147,712350,573823,405252,718654,531580,973139,892292,422760,154753,887061,438508,237467,489705,328311,591120]\n",
    "vendas2020 = [951642,244295,26964,787604,867660,78830,710331,646016,694913,539704,324831,667179,295633,725316,644622,994303]\n",
    "\n",
    "#seu código aqui\n",
    "\n",
    "list_produtos = zip(produtos, vendas2019, vendas2020)\n",
    "\n",
    "for produto, venda19, venda20 in list_produtos:\n",
    "    if venda20 > venda19:\n",
    "        print(f'O produto {produto} teve um aumento nas vendas de {venda19} em 2019 para {venda20} em 2020.')\n",
    "\n",
    "print('\\n-------\\n')\n",
    "\n",
    "dict_produtos = dict(zip(produtos, zip(vendas2019, vendas2020)))\n",
    "for produto, vendas in dict_produtos.items():\n",
    "    if vendas[1] > vendas [0]:\n",
    "        print(f'O produto {produto} teve um aumento nas vendas de {vendas[0]} em 2019 para {vendas[1]} em 2020.')"
   ]
  },
  {
   "cell_type": "code",
   "execution_count": null,
   "metadata": {},
   "outputs": [],
   "source": []
  }
 ],
 "metadata": {
  "kernelspec": {
   "display_name": "Python 3",
   "language": "python",
   "name": "python3"
  },
  "language_info": {
   "codemirror_mode": {
    "name": "ipython",
    "version": 3
   },
   "file_extension": ".py",
   "mimetype": "text/x-python",
   "name": "python",
   "nbconvert_exporter": "python",
   "pygments_lexer": "ipython3",
   "version": "3.13.9"
  }
 },
 "nbformat": 4,
 "nbformat_minor": 4
}
