{
 "cells": [
  {
   "cell_type": "code",
   "execution_count": null,
   "id": "2157388f",
   "metadata": {},
   "outputs": [],
   "source": [
    "'''\n",
    "@author: Matheus Lopes\n",
    "@license: GNU General Public License v3.0\n",
    "@description: This script is used to generate a list of all the files in the current directory and its subdirectories.\n",
    "@version: 1.0.0\n",
    "'''"
   ]
  },
  {
   "cell_type": "code",
   "execution_count": null,
   "id": "fbc0d673",
   "metadata": {},
   "outputs": [
    {
     "name": "stdout",
     "output_type": "stream",
     "text": [
      "Índice da String 0: T\n",
      "Índice da String 1: e\n",
      "Índice 1 e 2: es\n",
      "e\n",
      "Tamanho da string: 15\n"
     ]
    }
   ],
   "source": [
    "texto = \"Teste de string\"\n",
    "'''\n",
    "[INCLUÍDO : NÃO INCLUIR : {step}]\n",
    "'''\n",
    "print(f\"Índice da String 0: {texto[0]}\")\n",
    "print(f\"Índice da String 1: {texto[1]}\")\n",
    "print(f\"Índice 1 e 2: {texto[1:3]}\")\n",
    "print(f\"Tamanho da string: {len(texto)}\")"
   ]
  },
  {
   "cell_type": "code",
   "execution_count": 13,
   "id": "aa6aebee",
   "metadata": {},
   "outputs": [
    {
     "name": "stdout",
     "output_type": "stream",
     "text": [
      "Email: mat.lopes2907@gmail.com\n",
      "Email com fatiamento: mat...@gmail.com\n",
      "Email foi declarado como: mat.lopes2907@gmail.com \n"
     ]
    }
   ],
   "source": [
    "email = \"mat.lopes2907@gmail.com\"\n",
    "\n",
    "print(f\"Email: {email}\")\n",
    "print(f\"Email com fatiamento: {email[0:3]}...{email[-10:]}\")\n",
    "print('Email foi declarado como: {0} '.format(email))"
   ]
  },
  {
   "cell_type": "code",
   "execution_count": 15,
   "id": "957bcdac",
   "metadata": {},
   "outputs": [
    {
     "name": "stdout",
     "output_type": "stream",
     "text": [
      "O faturamento foi de 1000\n",
      "True\n"
     ]
    }
   ],
   "source": [
    "print(\"O faturamento foi de %d\" % 1000)\n",
    "print('@' in email)"
   ]
  },
  {
   "cell_type": "code",
   "execution_count": 16,
   "id": "43ba2d6b",
   "metadata": {},
   "outputs": [
    {
     "name": "stdout",
     "output_type": "stream",
     "text": [
      "String em caixa alta: TESTE DE STRING\n",
      "String em caixa baixa: teste de string\n",
      "String com primeira letra maiúscula: Teste de string\n",
      "String com todas as palavras iniciando com maiúscula: Teste De String\n",
      "String com espaços removidos: Teste de string\n",
      "String com espaços removidos à esquerda: Teste de string\n",
      "String com espaços removidos à direita: Teste de string\n",
      "String com substituição: Exemplo de string\n",
      "String com substituição de 'e' por 'E': TEstE dE string\n",
      "Verificar se o arquivo termina em @gmail.com: False\n",
      "Verificar se o texto começa com 'mat.lopes2907': False\n",
      "Dividir a string em palavras: ['Teste', 'de', 'string']\n",
      "Dividir a string em palavras com separador 'e': ['T', 'st', ' d', ' string']\n",
      "Juntar a lista de palavras: Teste de string\n",
      "0\n",
      "0\n",
      "3\n"
     ]
    }
   ],
   "source": [
    "print(f\"String em caixa alta: {texto.upper()}\")\n",
    "print(f\"String em caixa baixa: {texto.lower()}\")\n",
    "print(f\"String com primeira letra maiúscula: {texto.capitalize()}\")\n",
    "print(f\"String com todas as palavras iniciando com maiúscula: {texto.title()}\")\n",
    "print(f\"String com espaços removidos: {texto.strip()}\") \n",
    "print(f\"String com espaços removidos à esquerda: {texto.lstrip()}\")\n",
    "print(f\"String com espaços removidos à direita: {texto.rstrip()}\")\n",
    "print(f\"String com substituição: {texto.replace('Teste', 'Exemplo')}\")\n",
    "print(f\"String com substituição de 'e' por 'E': {texto.replace('e', 'E')}\")\n",
    "print(f\"Verificar se o arquivo termina em @gmail.com: {texto.endswith('@gmail.com')}\")\n",
    "print(f\"Verificar se o texto começa com 'mat.lopes2907': {texto.startswith('mat.lopes2907')}\")\n",
    "print(f\"Dividir a string em palavras: {texto.split()}\")\n",
    "print(f\"Dividir a string em palavras com separador 'e': {texto.split('e')}\")\n",
    "print(f\"Juntar a lista de palavras: {' '.join(texto.split())}\")\n",
    "print(texto.find('Teste'))\n",
    "print(texto.index('Teste'))\n",
    "print(texto.count('e'))"
   ]
  },
  {
   "cell_type": "code",
   "execution_count": 20,
   "id": "79f99639",
   "metadata": {},
   "outputs": [
    {
     "name": "stdout",
     "output_type": "stream",
     "text": [
      "Email: mat.lopes2907@gmail.com\n",
      "Meu email não é        mat.lopes2907@gmail.com\n",
      "Meu email não é mat.lopes2907@gmail.com       \n"
     ]
    }
   ],
   "source": [
    "email = \"mat.lopes2907@gmail.com\"\n",
    "print(f\"Email: {email}\")\n",
    "\n",
    "print('Meu email não é {:>30}'.format(email))\n",
    "print('Meu email não é {:<30}'.format(email))"
   ]
  },
  {
   "cell_type": "code",
   "execution_count": 26,
   "id": "37db7d57",
   "metadata": {},
   "outputs": [
    {
     "name": "stdout",
     "output_type": "stream",
     "text": [
      "O custo foi de 1569.99 e o faturamento foi de 1234.56, logo o lucro foi de -335.43000000000006\n",
      "Faturamento foi +1.2e+03 e o custo foi +1,569.99, logo o lucro foi -335.43\n"
     ]
    }
   ],
   "source": [
    "custo = 1569.99\n",
    "faturamento = 1234.56\n",
    "# Cálculo do lucro\n",
    "lucro = faturamento - custo\n",
    "\n",
    "print(f\"O custo foi de {custo} e o faturamento foi de {faturamento}, logo o lucro foi de {lucro}\")\n",
    "print('Faturamento foi {:+,.2} e o custo foi {:+,.2f}, logo o lucro foi {:+,.2f}'.format(faturamento, custo, lucro))"
   ]
  },
  {
   "cell_type": "code",
   "execution_count": 28,
   "id": "bcea593b",
   "metadata": {},
   "outputs": [
    {
     "name": "stdout",
     "output_type": "stream",
     "text": [
      "O custo foi de +1,569.99 e o faturamento foi de +1,234.56, logo o lucro foi de -335.43 com margem de -27.17%\n"
     ]
    }
   ],
   "source": [
    "custo = 1569.99\n",
    "faturamento = 1234.56\n",
    "\n",
    "# Cálculo do lucro\n",
    "lucro = faturamento - custo\n",
    "margem = (lucro / faturamento) * 100\n",
    "\n",
    "print(f\"O custo foi de {custo:+,} e o faturamento foi de {faturamento:+,}, logo o lucro foi de {lucro:+.2f} com margem de {margem:.2f}%\")"
   ]
  },
  {
   "cell_type": "code",
   "execution_count": 38,
   "id": "10d0212c",
   "metadata": {},
   "outputs": [
    {
     "name": "stdout",
     "output_type": "stream",
     "text": [
      "Preço: 100.00, Imposto: 15.00, Preço final: 115.00\n"
     ]
    }
   ],
   "source": [
    "imposto = 0.15\n",
    "preco = 100.0\n",
    "\n",
    "valor_imposto = round(preco * imposto,1)\n",
    "preco_final = round(preco + valor_imposto, 1)\n",
    "\n",
    "print(f\"Preço: {preco:.2f}, Imposto: {valor_imposto:.2f}, Preço final: {preco_final:.2f}\")"
   ]
  },
  {
   "cell_type": "code",
   "execution_count": 39,
   "id": "69464295",
   "metadata": {},
   "outputs": [
    {
     "name": "stdout",
     "output_type": "stream",
     "text": [
      "R$ 115.00\n",
      "R$ 115.00\n",
      "115,00\n"
     ]
    }
   ],
   "source": [
    "print('R$ {:,.2f}'.format(preco_final))\n",
    "print(f\"R$ {preco_final:,.2f}\")\n",
    "\n",
    "preco_final2 = f\"{preco_final:,.2f}\"\n",
    "print(preco_final2.replace('.', ',').replace('_', '.'))"
   ]
  },
  {
   "cell_type": "code",
   "execution_count": 46,
   "id": "d798954a",
   "metadata": {},
   "outputs": [
    {
     "name": "stdout",
     "output_type": "stream",
     "text": [
      "CPF inválido\n"
     ]
    }
   ],
   "source": [
    "cpf = input(\"Digite o CPF: \")\n",
    "\n",
    "# Verifica se o CPF é válido\n",
    "# Um CPF válido deve ter 11 dígitos numéricos\n",
    "if len(cpf) == 11 and cpf.isnumeric():\n",
    "    print(\"CPF válido\")\n",
    "else:\n",
    "    print(\"CPF inválido\")"
   ]
  }
 ],
 "metadata": {
  "kernelspec": {
   "display_name": ".venv",
   "language": "python",
   "name": "python3"
  },
  "language_info": {
   "codemirror_mode": {
    "name": "ipython",
    "version": 3
   },
   "file_extension": ".py",
   "mimetype": "text/x-python",
   "name": "python",
   "nbconvert_exporter": "python",
   "pygments_lexer": "ipython3",
   "version": "3.13.0"
  }
 },
 "nbformat": 4,
 "nbformat_minor": 5
}
